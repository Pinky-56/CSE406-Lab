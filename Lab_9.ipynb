{
  "nbformat": 4,
  "nbformat_minor": 0,
  "metadata": {
    "colab": {
      "provenance": []
    },
    "kernelspec": {
      "name": "python3",
      "display_name": "Python 3"
    },
    "language_info": {
      "name": "python"
    }
  },
  "cells": [
    {
      "cell_type": "code",
      "execution_count": 1,
      "metadata": {
        "colab": {
          "base_uri": "https://localhost:8080/"
        },
        "id": "R--823lf0yLj",
        "outputId": "9cd31828-2011-4a2c-9eb8-a07df7972f0f"
      },
      "outputs": [
        {
          "output_type": "stream",
          "name": "stdout",
          "text": [
            "Page\tFrames\t\tPage Fault\n",
            "3\t[3]\t\tYes\n",
            "2\t[3, 2]\t\tYes\n",
            "0\t[3, 2, 0]\t\tYes\n",
            "1\t[2, 0, 1]\t\tYes\n",
            "0\t[2, 0, 1]\t\tNo\n",
            "5\t[0, 1, 5]\t\tYes\n",
            "9\t[1, 5, 9]\t\tYes\n",
            "1\t[1, 5, 9]\t\tNo\n",
            "2\t[5, 9, 2]\t\tYes\n",
            "\n",
            "Total Page Faults = 7\n"
          ]
        }
      ],
      "source": [
        "pages = [3, 2, 0, 1, 0, 5, 9, 1, 2]\n",
        "frame_size = 3\n",
        "frames = []\n",
        "page_faults = 0\n",
        "print(\"Page\\tFrames\\t\\tPage Fault\")\n",
        "for page in pages:\n",
        "    if page not in frames:\n",
        "        page_faults +=\n",
        "        if len(frames) == frame_size:\n",
        "            frames.pop(0)\n",
        "        frames.append(page)\n",
        "        fault = \"Yes\"\n",
        "    else:\n",
        "        fault = \"No\"\n",
        "    print(f\"{page}\\t{frames}\\t\\t{fault}\")\n",
        "print(\"\\nTotal Page Faults =\", page_faults)\n"
      ]
    }
  ]
}